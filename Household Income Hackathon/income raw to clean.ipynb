{
 "cells": [
  {
   "cell_type": "code",
   "execution_count": null,
   "metadata": {},
   "outputs": [],
   "source": [
    "import numpy as np\n",
    "import pandas as pd\n",
    "import matplotlib.pyplot as plt\n",
    "pd.set_option(\"display.max_colwidth\", -1)"
   ]
  },
  {
   "cell_type": "code",
   "execution_count": null,
   "metadata": {},
   "outputs": [],
   "source": [
    "def raw_to_clean_income(Raw) :\n",
    "    income_data = pd.read_csv(Raw)\n",
    "    median_households_income = income_data.loc[:,'B19049e1']\n",
    "    GEOID = income_data.iloc[:,1]\n",
    "    clean_income = pd.concat([GEOID, median_households_income], axis=1, sort=False)\n",
    "    \n",
    "    # Add GEOID and ensure it is in the first column (Rename column)\n",
    "    clean_income = clean_income.rename(index=str, columns={\"GEOID\": \"GEOID\", 'B19049e1': \"Median Income\"})\n",
    "    \n",
    "    return clean_income"
   ]
  },
  {
   "cell_type": "code",
   "execution_count": null,
   "metadata": {},
   "outputs": [],
   "source": [
    "clean_income = raw_to_clean_income('X19_INCOME.csv')\n",
    "clean_income.to_csv('incomes.csv')"
   ]
  }
 ],
 "metadata": {
  "kernelspec": {
   "display_name": "Python 3",
   "language": "python",
   "name": "python3"
  },
  "language_info": {
   "codemirror_mode": {
    "name": "ipython",
    "version": 3
   },
   "file_extension": ".py",
   "mimetype": "text/x-python",
   "name": "python",
   "nbconvert_exporter": "python",
   "pygments_lexer": "ipython3",
   "version": "3.7.0"
  }
 },
 "nbformat": 4,
 "nbformat_minor": 2
}
