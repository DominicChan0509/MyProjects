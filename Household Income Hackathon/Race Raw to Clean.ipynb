{
 "cells": [
  {
   "cell_type": "code",
   "execution_count": null,
   "metadata": {},
   "outputs": [],
   "source": [
    "import numpy as np\n",
    "import pandas as pd"
   ]
  },
  {
   "cell_type": "code",
   "execution_count": null,
   "metadata": {
    "scrolled": true
   },
   "outputs": [],
   "source": [
    "################################################\n",
    "# Pre-processing for race\n",
    "# example: preprocess_race('./train/X02_RACE.csv')\n",
    "# output: race_data[pandas.Dataframe]\n",
    "################################################\n",
    "\n",
    "def preprocess_race(csv_path):\n",
    "    SELECTED_COL_SHORTNAME = ['GEOID', 'B02001e1', 'B02001e2', 'B02001e3', 'B02001e4',\\\n",
    "                              'B02001e5', 'B02001e6', 'B02001e7', 'B02001e8']\n",
    "    OUTPUT_COL_NAME = [ \"geoid\", \"race_total\", \"race_white\",\"race_black\", \"race_american-indian\",\\\n",
    "                        \"race_asian\", \"race_native-hawaiian\",\"race_other\", \"race_multiracial\"]\n",
    "    race_data = pd.read_csv(csv_path)\n",
    "    race_data = race_data[SELECTED_COL_SHORTNAME]\n",
    "    # Form output data:\n",
    "    data_out = pd.DataFrame()\n",
    "    data_out = race_data\n",
    "    data_out.columns = OUTPUT_COL_NAME\n",
    "    for idx in range(2, len(SELECTED_COL_SHORTNAME)):\n",
    "        data_out[OUTPUT_COL_NAME[idx]] = data_out[OUTPUT_COL_NAME[idx]] / data_out[OUTPUT_COL_NAME[1]]    \n",
    "    # Drop race_total:\n",
    "    data_out = data_out.drop(\"race_total\", axis=1) \n",
    "    # Drop nan values:\n",
    "    data_out = data_out.dropna()\n",
    "    return data_out"
   ]
  },
  {
   "cell_type": "code",
   "execution_count": null,
   "metadata": {},
   "outputs": [],
   "source": [
    "race_data = preprocess_race('./train/X02_RACE.csv')\n",
    "race_data.to_csv('Race.csv')\n",
    "race_data.head()"
   ]
  }
 ],
 "metadata": {
  "kernelspec": {
   "display_name": "Python 3",
   "language": "python",
   "name": "python3"
  },
  "language_info": {
   "codemirror_mode": {
    "name": "ipython",
    "version": 3
   },
   "file_extension": ".py",
   "mimetype": "text/x-python",
   "name": "python",
   "nbconvert_exporter": "python",
   "pygments_lexer": "ipython3",
   "version": "3.6.7"
  }
 },
 "nbformat": 4,
 "nbformat_minor": 2
}
