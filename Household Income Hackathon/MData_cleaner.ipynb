{
 "cells": [
  {
   "cell_type": "code",
   "execution_count": 146,
   "metadata": {},
   "outputs": [],
   "source": [
    "# Load the Pandas libraries with alias 'pd'\n",
    "import pandas as pd\n",
    "# Read data from file 'filename.csv'\n",
    "# (in the same directory that your python process is based)\n",
    "# Control delimiters, rows, column names with read_csv (see later)\n",
    "\n",
    "def cleanMaritialData(Raw):\n",
    "    data = pd.read_csv(Raw)\n",
    "    cleandata = data[['B12001e1','B12001e2','B12001e11']].copy()\n",
    "    \n",
    "    #B12001e1 =Totalpop |B12001e2 = Male Total | B12001e11= Female Total\n",
    "    cleandata['Male'] = cleandata.apply(lambda x: x['B12001e2'] if x['B12001e2'] < 1 else float(x['B12001e2'])/x['B12001e1'], axis=1)\n",
    "    cleandata['Female'] = cleandata.apply(lambda x: x['B12001e11'] if x['B12001e11'] < 1 else float(x['B12001e11'])/x['B12001e1'], axis=1)\n",
    "    cleandata['Total'] = cleandata['B12001e1'].copy()\n",
    "    #= data[['B01001e32','B01001e33','B01001e34']].agg(\"sum\", axis=\"columns\")\n",
    "    \n",
    "    cleandata['MaleNM'] = data[['B12001e3']].copy()\n",
    "    cleandata['MaleMSP']= data[['B12001e5']].copy()\n",
    "    cleandata['MaleMSA']= data[['B12001e6']].copy()\n",
    "    cleandata['MaleD'] = data[['B12001e10']].copy()\n",
    "    cleandata['MaleW'] = data[['B12001e9']].copy()\n",
    "    \n",
    "    cleandata['Male, Never Married'] = cleandata.apply(lambda x: x['MaleNM'] if x['MaleNM'] < 1 else float(x['MaleNM'])/x['B12001e1'], axis=1)\n",
    "    cleandata['Male, Married, Spouse Present']= cleandata.apply(lambda x: x['MaleMSP'] if x['MaleMSP'] < 1 else float(x['MaleMSP'])/x['B12001e1'], axis=1)\n",
    "    cleandata['Male, Married, Spouse absent']= cleandata.apply(lambda x: x['MaleMSA'] if x['MaleMSA'] < 1 else float(x['MaleMSA'])/x['B12001e1'], axis=1)\n",
    "    cleandata['Male, Divorced'] = cleandata.apply(lambda x: x['MaleD'] if x['MaleD'] < 1 else float(x['MaleD'])/x['B12001e1'], axis=1)\n",
    "    cleandata['Male, Widowed'] = cleandata.apply(lambda x: x['MaleW'] if x['MaleW'] < 1 else float(x['MaleW'])/x['B12001e1'], axis=1)\n",
    "\n",
    "    cleandata['FemaleNM'] = data[['B12001e12']].copy()\n",
    "    cleandata['FemaleMSP']= data[['B12001e14']].copy()\n",
    "    cleandata['FemaleMSA']= data[['B12001e15']].copy()\n",
    "    cleandata['FemaleD'] = data[['B12001e19']].copy()\n",
    "    cleandata['FemaleW'] = data[['B12001e18']].copy()\n",
    "\n",
    "    cleandata['Female, Never Married']= cleandata.apply(lambda x: x['FemaleNM'] if x['FemaleNM'] < 1 else float(x['FemaleNM'])/x['B12001e1'], axis=1)\n",
    "    cleandata['Female, Married, Spouse Present']= cleandata.apply(lambda x: x['FemaleMSP'] if x['FemaleMSP'] < 1 else float(x['FemaleMSP'])/x['B12001e1'], axis=1)\n",
    "    cleandata['Female, Married, Spouse absent']= cleandata.apply(lambda x: x['FemaleMSA'] if x['FemaleMSA'] < 1 else float(x['FemaleMSA'])/x['B12001e1'], axis=1)\n",
    "    cleandata['Female, Divorced']= cleandata.apply(lambda x: x['FemaleD'] if x['FemaleD'] < 1 else float(x['FemaleD'])/x['B12001e1'], axis=1)\n",
    "    cleandata['Female, Widowed']= cleandata.apply(lambda x: x['FemaleW'] if x['FemaleW'] < 1 else float(x['FemaleW'])/x['B12001e1'], axis=1)\n",
    "    \n",
    "    cleandata = cleandata.drop(['MaleNM','MaleMSP','MaleMSA','MaleD','MaleW'],axis=1)\n",
    "    cleandata = cleandata.drop(['FemaleNM','FemaleMSP','FemaleMSA','FemaleD','FemaleW'],axis=1)\n",
    "    cleandata = cleandata.drop(['B12001e1','B12001e2','B12001e11'],axis=1)\n",
    "\n",
    "\n",
    "    return cleandata\n",
    "    \n",
    "    \n",
    "\n",
    "    \n",
    "#data = pd.read_csv(\"X12_MARITAL_STATUS_AND_HISTORY.csv\")\n",
    "#data2 = pd.read_csv(\"BG_METADATA_2016.csv\")\n",
    "\n",
    "#df2 = pd.DataFrame(data2, columns=['Full_Name'])\n",
    "#df2 = df2.drop(df.index[0:1881])\n",
    "#df2 = df2.drop(df.index[40:len(df2)])\n",
    "\n",
    "#data2.drop([2], axis = 0).head(11)\n",
    "\n",
    "\n",
    "#data2"
   ]
  },
  {
   "cell_type": "code",
   "execution_count": 147,
   "metadata": {},
   "outputs": [],
   "source": [
    "new_clean = cleanMaritialData('X12_MARITAL_STATUS_AND_HISTORY.csv')\n",
    "new_clean.to_csv('clean2.csv')"
   ]
  },
  {
   "cell_type": "code",
   "execution_count": null,
   "metadata": {},
   "outputs": [],
   "source": []
  }
 ],
 "metadata": {
  "kernelspec": {
   "display_name": "Python 2",
   "language": "python",
   "name": "python2"
  },
  "language_info": {
   "codemirror_mode": {
    "name": "ipython",
    "version": 2
   },
   "file_extension": ".py",
   "mimetype": "text/x-python",
   "name": "python",
   "nbconvert_exporter": "python",
   "pygments_lexer": "ipython2",
   "version": "2.7.15"
  }
 },
 "nbformat": 4,
 "nbformat_minor": 2
}
