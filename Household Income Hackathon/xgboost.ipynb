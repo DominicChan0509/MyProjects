{
 "cells": [
  {
   "cell_type": "code",
   "execution_count": 1,
   "metadata": {},
   "outputs": [
    {
     "name": "stderr",
     "output_type": "stream",
     "text": [
      "/home/arthur/miniconda3/envs/mlp/lib/python3.6/importlib/_bootstrap.py:205: RuntimeWarning: numpy.dtype size changed, may indicate binary incompatibility. Expected 96, got 88\n",
      "  return f(*args, **kwds)\n",
      "/home/arthur/miniconda3/envs/mlp/lib/python3.6/importlib/_bootstrap.py:205: RuntimeWarning: numpy.dtype size changed, may indicate binary incompatibility. Expected 96, got 88\n",
      "  return f(*args, **kwds)\n",
      "/home/arthur/miniconda3/envs/mlp/lib/python3.6/importlib/_bootstrap.py:205: RuntimeWarning: numpy.dtype size changed, may indicate binary incompatibility. Expected 96, got 88\n",
      "  return f(*args, **kwds)\n",
      "/home/arthur/miniconda3/envs/mlp/lib/python3.6/importlib/_bootstrap.py:205: RuntimeWarning: numpy.dtype size changed, may indicate binary incompatibility. Expected 96, got 88\n",
      "  return f(*args, **kwds)\n",
      "/home/arthur/miniconda3/envs/mlp/lib/python3.6/site-packages/sklearn/ensemble/weight_boosting.py:29: DeprecationWarning: numpy.core.umath_tests is an internal NumPy module and should not be imported. It will be removed in a future NumPy release.\n",
      "  from numpy.core.umath_tests import inner1d\n"
     ]
    }
   ],
   "source": [
    "import xgboost as xgb\n",
    "import pandas as pd\n",
    "import numpy as np\n",
    "from sklearn.model_selection import train_test_split\n",
    "from sklearn.metrics import mean_squared_error\n",
    "from skopt import BayesSearchCV\n",
    "from skopt.space import Real, Categorical, Integer\n",
    "from skopt import gp_minimize\n",
    "from skopt.utils import use_named_args\n",
    "from sklearn.svm import SVR\n",
    "import matplotlib.pyplot as plt\n",
    "%matplotlib inline\n",
    "pd.set_option('display.max_colwidth', -1)"
   ]
  },
  {
   "cell_type": "markdown",
   "metadata": {},
   "source": [
    "# Load and prepare data"
   ]
  },
  {
   "cell_type": "code",
   "execution_count": 2,
   "metadata": {},
   "outputs": [],
   "source": [
    "def normalise(X, mu=None, sigma=None):\n",
    "    if mu is None:\n",
    "        mu = X.mean()\n",
    "    if sigma is None:\n",
    "        sigma = X.std()\n",
    "    return (X - mu) / sigma, mu, sigma"
   ]
  },
  {
   "cell_type": "code",
   "execution_count": 3,
   "metadata": {},
   "outputs": [],
   "source": [
    "X = pd.read_csv('X.csv')\n",
    "X = X[X.columns[2:]] # get rid of irrelevant features\n",
    "X = X.drop('Female', axis=1)\n",
    "y = pd.read_csv('y.csv')\n",
    "y = y['Median Income']\n",
    "non_nan_ind = y[~y.isna()].index\n",
    "X = X.iloc[non_nan_ind]\n",
    "y = y.iloc[non_nan_ind]"
   ]
  },
  {
   "cell_type": "code",
   "execution_count": 4,
   "metadata": {},
   "outputs": [],
   "source": [
    "X_tr, X_test, y_tr_og, y_test_og = train_test_split(X, y, test_size=.1, random_state=3742)\n",
    "\n",
    "y_test = y_test_og\n",
    "y_tr = y_tr_og\n",
    "\n",
    "# norm (for non-tree approach)\n",
    "# X_tr, muX, sigmaX = normalise(X_tr)\n",
    "# X_test, _, _ = normalise(X_test, muX, sigmaX)\n",
    "# y_tr, muY, sigmaY = normalise(y_tr_og)\n",
    "# y_test, _, _ = normalise(y_test_og, muY, sigmaY)"
   ]
  },
  {
   "cell_type": "markdown",
   "metadata": {},
   "source": [
    "# Find optimal hyperparams"
   ]
  },
  {
   "cell_type": "code",
   "execution_count": 5,
   "metadata": {},
   "outputs": [
    {
     "name": "stdout",
     "output_type": "stream",
     "text": [
      "Fitting 3 folds for each of 4 candidates, totalling 12 fits\n",
      "[CV] max_depth=7, min_child_weight=4 .................................\n",
      "[CV] max_depth=7, min_child_weight=4 .................................\n",
      "[CV] max_depth=7, min_child_weight=4 .................................\n",
      "[CV] max_depth=6, min_child_weight=1 .................................\n",
      "[CV] .................. max_depth=6, min_child_weight=1, total=   3.1s\n",
      "[CV] max_depth=6, min_child_weight=1 .................................\n",
      "[CV] .................. max_depth=7, min_child_weight=4, total=   3.6s\n",
      "[CV] max_depth=6, min_child_weight=1 .................................\n",
      "[CV] .................. max_depth=7, min_child_weight=4, total=   3.6s\n",
      "[CV] max_depth=5, min_child_weight=8 .................................\n",
      "[CV] .................. max_depth=7, min_child_weight=4, total=   3.8s\n",
      "[CV] max_depth=5, min_child_weight=8 .................................\n",
      "[CV] .................. max_depth=5, min_child_weight=8, total=   2.4s\n",
      "[CV] max_depth=5, min_child_weight=8 .................................\n",
      "[CV] .................. max_depth=6, min_child_weight=1, total=   3.0s\n",
      "[CV] max_depth=6, min_child_weight=2 .................................\n",
      "[CV] .................. max_depth=5, min_child_weight=8, total=   2.4s\n",
      "[CV] max_depth=6, min_child_weight=2 .................................\n",
      "[CV] .................. max_depth=6, min_child_weight=1, total=   3.0s\n",
      "[CV] max_depth=6, min_child_weight=2 .................................\n",
      "[CV] .................. max_depth=5, min_child_weight=8, total=   2.4s\n",
      "[CV] .................. max_depth=6, min_child_weight=2, total=   2.9s\n",
      "[CV] .................. max_depth=6, min_child_weight=2, total=   3.0s\n",
      "[CV] .................. max_depth=6, min_child_weight=2, total=   2.9s\n",
      "Fitting 3 folds for each of 4 candidates, totalling 12 fits\n"
     ]
    },
    {
     "name": "stderr",
     "output_type": "stream",
     "text": [
      "[Parallel(n_jobs=4)]: Done  12 out of  12 | elapsed:    9.5s remaining:    0.0s\n",
      "[Parallel(n_jobs=4)]: Done  12 out of  12 | elapsed:    9.5s finished\n"
     ]
    },
    {
     "name": "stdout",
     "output_type": "stream",
     "text": [
      "[CV] max_depth=5, min_child_weight=2 .................................\n",
      "[CV] max_depth=5, min_child_weight=2 .................................\n",
      "[CV] max_depth=5, min_child_weight=2 .................................\n",
      "[CV] max_depth=6, min_child_weight=8 .................................\n",
      "[CV] .................. max_depth=5, min_child_weight=2, total=   2.5s\n",
      "[CV] max_depth=6, min_child_weight=8 .................................\n",
      "[CV] .................. max_depth=5, min_child_weight=2, total=   2.8s\n",
      "[CV] max_depth=6, min_child_weight=8 .................................\n",
      "[CV] .................. max_depth=5, min_child_weight=2, total=   2.8s\n",
      "[CV] max_depth=8, min_child_weight=6 .................................\n",
      "[CV] .................. max_depth=6, min_child_weight=8, total=   3.3s\n",
      "[CV] max_depth=8, min_child_weight=6 .................................\n",
      "[CV] .................. max_depth=6, min_child_weight=8, total=   3.0s\n",
      "[CV] max_depth=8, min_child_weight=6 .................................\n",
      "[CV] .................. max_depth=6, min_child_weight=8, total=   3.2s\n",
      "[CV] max_depth=7, min_child_weight=3 .................................\n",
      "[CV] .................. max_depth=8, min_child_weight=6, total=   3.9s\n",
      "[CV] max_depth=7, min_child_weight=3 .................................\n",
      "[CV] .................. max_depth=8, min_child_weight=6, total=   4.1s\n",
      "[CV] max_depth=7, min_child_weight=3 .................................\n",
      "[CV] .................. max_depth=7, min_child_weight=3, total=   3.5s\n",
      "[CV] .................. max_depth=8, min_child_weight=6, total=   4.0s\n",
      "[CV] .................. max_depth=7, min_child_weight=3, total=   3.4s\n",
      "[CV] .................. max_depth=7, min_child_weight=3, total=   3.4s\n"
     ]
    },
    {
     "name": "stderr",
     "output_type": "stream",
     "text": [
      "[Parallel(n_jobs=4)]: Done  12 out of  12 | elapsed:   10.8s remaining:    0.0s\n",
      "[Parallel(n_jobs=4)]: Done  12 out of  12 | elapsed:   10.8s finished\n"
     ]
    },
    {
     "name": "stdout",
     "output_type": "stream",
     "text": [
      "Fitting 3 folds for each of 4 candidates, totalling 12 fits\n"
     ]
    },
    {
     "name": "stderr",
     "output_type": "stream",
     "text": [
      "/home/arthur/miniconda3/envs/mlp/lib/python3.6/site-packages/skopt/optimizer/optimizer.py:399: UserWarning: The objective has been evaluated at this point before.\n",
      "  warnings.warn(\"The objective has been evaluated \"\n"
     ]
    },
    {
     "name": "stdout",
     "output_type": "stream",
     "text": [
      "[CV] max_depth=7, min_child_weight=5 .................................\n",
      "[CV] max_depth=7, min_child_weight=5 .................................\n",
      "[CV] max_depth=7, min_child_weight=5 .................................\n",
      "[CV] max_depth=4, min_child_weight=7 .................................\n",
      "[CV] .................. max_depth=4, min_child_weight=7, total=   2.0s\n",
      "[CV] max_depth=4, min_child_weight=7 .................................\n",
      "[CV] .................. max_depth=7, min_child_weight=5, total=   3.6s\n",
      "[CV] max_depth=4, min_child_weight=7 .................................\n",
      "[CV] .................. max_depth=7, min_child_weight=5, total=   3.6s\n",
      "[CV] max_depth=6, min_child_weight=3 .................................\n",
      "[CV] .................. max_depth=7, min_child_weight=5, total=   3.7s\n",
      "[CV] max_depth=6, min_child_weight=3 .................................\n",
      "[CV] .................. max_depth=4, min_child_weight=7, total=   1.9s\n",
      "[CV] max_depth=6, min_child_weight=3 .................................\n",
      "[CV] .................. max_depth=4, min_child_weight=7, total=   1.9s\n",
      "[CV] max_depth=6, min_child_weight=2 .................................\n",
      "[CV] .................. max_depth=6, min_child_weight=3, total=   3.1s\n",
      "[CV] max_depth=6, min_child_weight=2 .................................\n",
      "[CV] .................. max_depth=6, min_child_weight=3, total=   3.1s\n",
      "[CV] max_depth=6, min_child_weight=2 .................................\n",
      "[CV] .................. max_depth=6, min_child_weight=3, total=   3.0s\n",
      "[CV] .................. max_depth=6, min_child_weight=2, total=   2.9s\n",
      "[CV] .................. max_depth=6, min_child_weight=2, total=   2.9s\n",
      "[CV] .................. max_depth=6, min_child_weight=2, total=   2.8s\n"
     ]
    },
    {
     "name": "stderr",
     "output_type": "stream",
     "text": [
      "[Parallel(n_jobs=4)]: Done  12 out of  12 | elapsed:    9.7s remaining:    0.0s\n",
      "[Parallel(n_jobs=4)]: Done  12 out of  12 | elapsed:    9.7s finished\n",
      "/home/arthur/miniconda3/envs/mlp/lib/python3.6/site-packages/skopt/optimizer/optimizer.py:399: UserWarning: The objective has been evaluated at this point before.\n",
      "  warnings.warn(\"The objective has been evaluated \"\n",
      "/home/arthur/miniconda3/envs/mlp/lib/python3.6/site-packages/skopt/optimizer/optimizer.py:399: UserWarning: The objective has been evaluated at this point before.\n",
      "  warnings.warn(\"The objective has been evaluated \"\n"
     ]
    },
    {
     "name": "stdout",
     "output_type": "stream",
     "text": [
      "Fitting 3 folds for each of 4 candidates, totalling 12 fits\n"
     ]
    },
    {
     "name": "stderr",
     "output_type": "stream",
     "text": [
      "/home/arthur/miniconda3/envs/mlp/lib/python3.6/site-packages/skopt/optimizer/optimizer.py:399: UserWarning: The objective has been evaluated at this point before.\n",
      "  warnings.warn(\"The objective has been evaluated \"\n"
     ]
    },
    {
     "name": "stdout",
     "output_type": "stream",
     "text": [
      "[CV] max_depth=6, min_child_weight=4 .................................\n",
      "[CV] max_depth=6, min_child_weight=4 .................................\n",
      "[CV] max_depth=6, min_child_weight=4 .................................\n",
      "[CV] max_depth=6, min_child_weight=4 .................................\n",
      "[CV] .................. max_depth=6, min_child_weight=4, total=   3.0s\n",
      "[CV] max_depth=6, min_child_weight=4 .................................\n",
      "[CV] .................. max_depth=6, min_child_weight=4, total=   3.0s\n",
      "[CV] max_depth=6, min_child_weight=4 .................................\n",
      "[CV] .................. max_depth=6, min_child_weight=4, total=   3.1s\n",
      "[CV] max_depth=6, min_child_weight=4 .................................\n",
      "[CV] .................. max_depth=6, min_child_weight=4, total=   3.2s\n",
      "[CV] max_depth=6, min_child_weight=4 .................................\n",
      "[CV] .................. max_depth=6, min_child_weight=4, total=   2.9s\n",
      "[CV] max_depth=6, min_child_weight=4 .................................\n",
      "[CV] .................. max_depth=6, min_child_weight=4, total=   3.0s\n",
      "[CV] max_depth=6, min_child_weight=4 .................................\n",
      "[CV] .................. max_depth=6, min_child_weight=4, total=   3.3s\n",
      "[CV] max_depth=6, min_child_weight=4 .................................\n",
      "[CV] .................. max_depth=6, min_child_weight=4, total=   3.3s\n",
      "[CV] max_depth=6, min_child_weight=4 .................................\n",
      "[CV] .................. max_depth=6, min_child_weight=4, total=   2.9s\n",
      "[CV] .................. max_depth=6, min_child_weight=4, total=   2.9s\n",
      "[CV] .................. max_depth=6, min_child_weight=4, total=   2.9s\n",
      "[CV] .................. max_depth=6, min_child_weight=4, total=   3.0s\n"
     ]
    },
    {
     "name": "stderr",
     "output_type": "stream",
     "text": [
      "[Parallel(n_jobs=4)]: Done  12 out of  12 | elapsed:    9.4s remaining:    0.0s\n",
      "[Parallel(n_jobs=4)]: Done  12 out of  12 | elapsed:    9.4s finished\n",
      "/home/arthur/miniconda3/envs/mlp/lib/python3.6/site-packages/skopt/optimizer/optimizer.py:399: UserWarning: The objective has been evaluated at this point before.\n",
      "  warnings.warn(\"The objective has been evaluated \"\n",
      "/home/arthur/miniconda3/envs/mlp/lib/python3.6/site-packages/skopt/optimizer/optimizer.py:399: UserWarning: The objective has been evaluated at this point before.\n",
      "  warnings.warn(\"The objective has been evaluated \"\n"
     ]
    },
    {
     "name": "stdout",
     "output_type": "stream",
     "text": [
      "Fitting 3 folds for each of 4 candidates, totalling 12 fits\n"
     ]
    },
    {
     "name": "stderr",
     "output_type": "stream",
     "text": [
      "/home/arthur/miniconda3/envs/mlp/lib/python3.6/site-packages/skopt/optimizer/optimizer.py:399: UserWarning: The objective has been evaluated at this point before.\n",
      "  warnings.warn(\"The objective has been evaluated \"\n"
     ]
    },
    {
     "name": "stdout",
     "output_type": "stream",
     "text": [
      "[CV] max_depth=8, min_child_weight=5 .................................\n",
      "[CV] max_depth=8, min_child_weight=5 .................................\n",
      "[CV] max_depth=8, min_child_weight=5 .................................\n",
      "[CV] max_depth=6, min_child_weight=4 .................................\n",
      "[CV] .................. max_depth=6, min_child_weight=4, total=   3.2s\n",
      "[CV] max_depth=6, min_child_weight=4 .................................\n",
      "[CV] .................. max_depth=8, min_child_weight=5, total=   4.3s\n",
      "[CV] max_depth=6, min_child_weight=4 .................................\n",
      "[CV] .................. max_depth=8, min_child_weight=5, total=   4.3s\n",
      "[CV] max_depth=6, min_child_weight=4 .................................\n",
      "[CV] .................. max_depth=8, min_child_weight=5, total=   4.7s\n",
      "[CV] max_depth=6, min_child_weight=4 .................................\n",
      "[CV] .................. max_depth=6, min_child_weight=4, total=   3.3s\n",
      "[CV] max_depth=6, min_child_weight=4 .................................\n",
      "[CV] .................. max_depth=6, min_child_weight=4, total=   3.0s\n",
      "[CV] max_depth=6, min_child_weight=4 .................................\n",
      "[CV] .................. max_depth=6, min_child_weight=4, total=   3.0s\n",
      "[CV] max_depth=6, min_child_weight=4 .................................\n",
      "[CV] .................. max_depth=6, min_child_weight=4, total=   3.0s\n",
      "[CV] max_depth=6, min_child_weight=4 .................................\n",
      "[CV] .................. max_depth=6, min_child_weight=4, total=   3.0s\n",
      "[CV] .................. max_depth=6, min_child_weight=4, total=   2.9s\n",
      "[CV] .................. max_depth=6, min_child_weight=4, total=   3.0s\n",
      "[CV] .................. max_depth=6, min_child_weight=4, total=   2.8s\n"
     ]
    },
    {
     "name": "stderr",
     "output_type": "stream",
     "text": [
      "[Parallel(n_jobs=4)]: Done  12 out of  12 | elapsed:   10.6s remaining:    0.0s\n",
      "[Parallel(n_jobs=4)]: Done  12 out of  12 | elapsed:   10.6s finished\n",
      "/home/arthur/miniconda3/envs/mlp/lib/python3.6/site-packages/skopt/optimizer/optimizer.py:399: UserWarning: The objective has been evaluated at this point before.\n",
      "  warnings.warn(\"The objective has been evaluated \"\n",
      "/home/arthur/miniconda3/envs/mlp/lib/python3.6/site-packages/skopt/optimizer/optimizer.py:399: UserWarning: The objective has been evaluated at this point before.\n",
      "  warnings.warn(\"The objective has been evaluated \"\n",
      "/home/arthur/miniconda3/envs/mlp/lib/python3.6/site-packages/skopt/optimizer/optimizer.py:399: UserWarning: The objective has been evaluated at this point before.\n",
      "  warnings.warn(\"The objective has been evaluated \"\n",
      "/home/arthur/miniconda3/envs/mlp/lib/python3.6/site-packages/skopt/optimizer/optimizer.py:399: UserWarning: The objective has been evaluated at this point before.\n",
      "  warnings.warn(\"The objective has been evaluated \"\n"
     ]
    },
    {
     "name": "stdout",
     "output_type": "stream",
     "text": [
      "Fitting 3 folds for each of 4 candidates, totalling 12 fits\n",
      "[CV] max_depth=6, min_child_weight=3 .................................\n",
      "[CV] max_depth=6, min_child_weight=3 .................................\n",
      "[CV] max_depth=6, min_child_weight=3 .................................\n",
      "[CV] max_depth=6, min_child_weight=4 .................................\n",
      "[CV] .................. max_depth=6, min_child_weight=3, total=   3.3s\n",
      "[CV] max_depth=6, min_child_weight=4 .................................\n",
      "[CV] .................. max_depth=6, min_child_weight=4, total=   3.3s\n",
      "[CV] max_depth=6, min_child_weight=4 .................................\n",
      "[CV] .................. max_depth=6, min_child_weight=3, total=   3.4s\n",
      "[CV] max_depth=6, min_child_weight=4 .................................\n",
      "[CV] .................. max_depth=6, min_child_weight=3, total=   3.5s\n",
      "[CV] max_depth=6, min_child_weight=4 .................................\n",
      "[CV] .................. max_depth=6, min_child_weight=4, total=   3.0s\n",
      "[CV] max_depth=6, min_child_weight=4 .................................\n",
      "[CV] .................. max_depth=6, min_child_weight=4, total=   2.9s\n",
      "[CV] max_depth=6, min_child_weight=4 .................................\n",
      "[CV] .................. max_depth=6, min_child_weight=4, total=   3.0s\n",
      "[CV] max_depth=6, min_child_weight=4 .................................\n",
      "[CV] .................. max_depth=6, min_child_weight=4, total=   3.0s\n",
      "[CV] max_depth=6, min_child_weight=4 .................................\n",
      "[CV] .................. max_depth=6, min_child_weight=4, total=   2.9s\n",
      "[CV] .................. max_depth=6, min_child_weight=4, total=   3.1s\n",
      "[CV] .................. max_depth=6, min_child_weight=4, total=   3.1s\n",
      "[CV] .................. max_depth=6, min_child_weight=4, total=   2.9s\n"
     ]
    },
    {
     "name": "stderr",
     "output_type": "stream",
     "text": [
      "[Parallel(n_jobs=4)]: Done  12 out of  12 | elapsed:    9.5s remaining:    0.0s\n",
      "[Parallel(n_jobs=4)]: Done  12 out of  12 | elapsed:    9.5s finished\n",
      "/home/arthur/miniconda3/envs/mlp/lib/python3.6/site-packages/skopt/optimizer/optimizer.py:399: UserWarning: The objective has been evaluated at this point before.\n",
      "  warnings.warn(\"The objective has been evaluated \"\n",
      "/home/arthur/miniconda3/envs/mlp/lib/python3.6/site-packages/skopt/optimizer/optimizer.py:399: UserWarning: The objective has been evaluated at this point before.\n",
      "  warnings.warn(\"The objective has been evaluated \"\n",
      "/home/arthur/miniconda3/envs/mlp/lib/python3.6/site-packages/skopt/optimizer/optimizer.py:399: UserWarning: The objective has been evaluated at this point before.\n",
      "  warnings.warn(\"The objective has been evaluated \"\n",
      "/home/arthur/miniconda3/envs/mlp/lib/python3.6/site-packages/skopt/optimizer/optimizer.py:399: UserWarning: The objective has been evaluated at this point before.\n",
      "  warnings.warn(\"The objective has been evaluated \"\n"
     ]
    },
    {
     "name": "stdout",
     "output_type": "stream",
     "text": [
      "Fitting 3 folds for each of 4 candidates, totalling 12 fits\n",
      "[CV] max_depth=6, min_child_weight=4 .................................\n",
      "[CV] max_depth=6, min_child_weight=4 .................................\n",
      "[CV] max_depth=6, min_child_weight=4 .................................\n",
      "[CV] max_depth=6, min_child_weight=4 .................................\n",
      "[CV] .................. max_depth=6, min_child_weight=4, total=   3.0s\n",
      "[CV] max_depth=6, min_child_weight=4 .................................\n",
      "[CV] .................. max_depth=6, min_child_weight=4, total=   3.1s\n",
      "[CV] max_depth=6, min_child_weight=4 .................................\n",
      "[CV] .................. max_depth=6, min_child_weight=4, total=   3.1s\n",
      "[CV] max_depth=6, min_child_weight=4 .................................\n",
      "[CV] .................. max_depth=6, min_child_weight=4, total=   3.2s\n",
      "[CV] max_depth=6, min_child_weight=4 .................................\n",
      "[CV] .................. max_depth=6, min_child_weight=4, total=   2.9s\n",
      "[CV] .................. max_depth=6, min_child_weight=4, total=   3.0s\n",
      "[CV] max_depth=6, min_child_weight=4 .................................\n",
      "[CV] max_depth=6, min_child_weight=4 .................................\n",
      "[CV] .................. max_depth=6, min_child_weight=4, total=   3.0s\n",
      "[CV] max_depth=6, min_child_weight=4 .................................\n",
      "[CV] .................. max_depth=6, min_child_weight=4, total=   3.0s\n",
      "[CV] max_depth=6, min_child_weight=4 .................................\n",
      "[CV] .................. max_depth=6, min_child_weight=4, total=   2.9s\n",
      "[CV] .................. max_depth=6, min_child_weight=4, total=   2.9s\n",
      "[CV] .................. max_depth=6, min_child_weight=4, total=   3.0s\n",
      "[CV] .................. max_depth=6, min_child_weight=4, total=   2.9s\n"
     ]
    },
    {
     "name": "stderr",
     "output_type": "stream",
     "text": [
      "[Parallel(n_jobs=4)]: Done  12 out of  12 | elapsed:    9.2s remaining:    0.0s\n",
      "[Parallel(n_jobs=4)]: Done  12 out of  12 | elapsed:    9.2s finished\n",
      "/home/arthur/miniconda3/envs/mlp/lib/python3.6/site-packages/skopt/optimizer/optimizer.py:399: UserWarning: The objective has been evaluated at this point before.\n",
      "  warnings.warn(\"The objective has been evaluated \"\n",
      "/home/arthur/miniconda3/envs/mlp/lib/python3.6/site-packages/skopt/optimizer/optimizer.py:399: UserWarning: The objective has been evaluated at this point before.\n",
      "  warnings.warn(\"The objective has been evaluated \"\n",
      "/home/arthur/miniconda3/envs/mlp/lib/python3.6/site-packages/skopt/optimizer/optimizer.py:399: UserWarning: The objective has been evaluated at this point before.\n",
      "  warnings.warn(\"The objective has been evaluated \"\n",
      "/home/arthur/miniconda3/envs/mlp/lib/python3.6/site-packages/skopt/optimizer/optimizer.py:399: UserWarning: The objective has been evaluated at this point before.\n",
      "  warnings.warn(\"The objective has been evaluated \"\n"
     ]
    },
    {
     "name": "stdout",
     "output_type": "stream",
     "text": [
      "Fitting 3 folds for each of 4 candidates, totalling 12 fits\n",
      "[CV] max_depth=6, min_child_weight=4 .................................\n",
      "[CV] max_depth=6, min_child_weight=4 .................................\n",
      "[CV] max_depth=6, min_child_weight=4 .................................\n",
      "[CV] max_depth=6, min_child_weight=4 .................................\n",
      "[CV] .................. max_depth=6, min_child_weight=4, total=   3.2s\n",
      "[CV] max_depth=6, min_child_weight=4 .................................\n",
      "[CV] .................. max_depth=6, min_child_weight=4, total=   3.4s\n",
      "[CV] max_depth=6, min_child_weight=4 .................................\n",
      "[CV] .................. max_depth=6, min_child_weight=4, total=   3.5s\n",
      "[CV] max_depth=6, min_child_weight=4 .................................\n",
      "[CV] .................. max_depth=6, min_child_weight=4, total=   3.8s\n",
      "[CV] max_depth=6, min_child_weight=4 .................................\n",
      "[CV] .................. max_depth=6, min_child_weight=4, total=   3.1s\n",
      "[CV] max_depth=6, min_child_weight=4 .................................\n",
      "[CV] .................. max_depth=6, min_child_weight=4, total=   3.0s\n",
      "[CV] max_depth=6, min_child_weight=4 .................................\n",
      "[CV] .................. max_depth=6, min_child_weight=4, total=   3.0s\n",
      "[CV] max_depth=6, min_child_weight=4 .................................\n",
      "[CV] .................. max_depth=6, min_child_weight=4, total=   3.0s\n",
      "[CV] max_depth=6, min_child_weight=4 .................................\n",
      "[CV] .................. max_depth=6, min_child_weight=4, total=   2.9s\n",
      "[CV] .................. max_depth=6, min_child_weight=4, total=   3.0s\n",
      "[CV] .................. max_depth=6, min_child_weight=4, total=   3.1s\n",
      "[CV] .................. max_depth=6, min_child_weight=4, total=   2.9s\n"
     ]
    },
    {
     "name": "stderr",
     "output_type": "stream",
     "text": [
      "[Parallel(n_jobs=4)]: Done  12 out of  12 | elapsed:    9.8s remaining:    0.0s\n",
      "[Parallel(n_jobs=4)]: Done  12 out of  12 | elapsed:    9.8s finished\n",
      "/home/arthur/miniconda3/envs/mlp/lib/python3.6/site-packages/skopt/optimizer/optimizer.py:399: UserWarning: The objective has been evaluated at this point before.\n",
      "  warnings.warn(\"The objective has been evaluated \"\n",
      "/home/arthur/miniconda3/envs/mlp/lib/python3.6/site-packages/skopt/optimizer/optimizer.py:399: UserWarning: The objective has been evaluated at this point before.\n",
      "  warnings.warn(\"The objective has been evaluated \"\n",
      "/home/arthur/miniconda3/envs/mlp/lib/python3.6/site-packages/skopt/optimizer/optimizer.py:399: UserWarning: The objective has been evaluated at this point before.\n",
      "  warnings.warn(\"The objective has been evaluated \"\n",
      "/home/arthur/miniconda3/envs/mlp/lib/python3.6/site-packages/skopt/optimizer/optimizer.py:399: UserWarning: The objective has been evaluated at this point before.\n",
      "  warnings.warn(\"The objective has been evaluated \"\n"
     ]
    },
    {
     "name": "stdout",
     "output_type": "stream",
     "text": [
      "Fitting 3 folds for each of 4 candidates, totalling 12 fits\n",
      "[CV] max_depth=6, min_child_weight=4 .................................\n",
      "[CV] max_depth=6, min_child_weight=4 .................................\n",
      "[CV] max_depth=6, min_child_weight=4 .................................\n",
      "[CV] max_depth=6, min_child_weight=4 .................................\n",
      "[CV] .................. max_depth=6, min_child_weight=4, total=   3.3s\n",
      "[CV] max_depth=6, min_child_weight=4 .................................\n",
      "[CV] .................. max_depth=6, min_child_weight=4, total=   3.3s\n",
      "[CV] max_depth=6, min_child_weight=4 .................................\n",
      "[CV] .................. max_depth=6, min_child_weight=4, total=   3.4s\n",
      "[CV] max_depth=6, min_child_weight=4 .................................\n",
      "[CV] .................. max_depth=6, min_child_weight=4, total=   3.4s\n",
      "[CV] max_depth=6, min_child_weight=4 .................................\n",
      "[CV] .................. max_depth=6, min_child_weight=4, total=   2.9s\n",
      "[CV] max_depth=6, min_child_weight=4 .................................\n",
      "[CV] .................. max_depth=6, min_child_weight=4, total=   3.0s\n",
      "[CV] max_depth=6, min_child_weight=4 .................................\n",
      "[CV] .................. max_depth=6, min_child_weight=4, total=   3.1s\n",
      "[CV] max_depth=6, min_child_weight=4 .................................\n",
      "[CV] .................. max_depth=6, min_child_weight=4, total=   3.1s\n",
      "[CV] max_depth=6, min_child_weight=4 .................................\n",
      "[CV] .................. max_depth=6, min_child_weight=4, total=   2.9s\n",
      "[CV] .................. max_depth=6, min_child_weight=4, total=   2.9s\n",
      "[CV] .................. max_depth=6, min_child_weight=4, total=   3.4s\n",
      "[CV] .................. max_depth=6, min_child_weight=4, total=   3.4s\n"
     ]
    },
    {
     "name": "stderr",
     "output_type": "stream",
     "text": [
      "[Parallel(n_jobs=4)]: Done  12 out of  12 | elapsed:    9.8s remaining:    0.0s\n",
      "[Parallel(n_jobs=4)]: Done  12 out of  12 | elapsed:    9.8s finished\n",
      "/home/arthur/miniconda3/envs/mlp/lib/python3.6/site-packages/skopt/optimizer/optimizer.py:399: UserWarning: The objective has been evaluated at this point before.\n",
      "  warnings.warn(\"The objective has been evaluated \"\n",
      "/home/arthur/miniconda3/envs/mlp/lib/python3.6/site-packages/skopt/optimizer/optimizer.py:399: UserWarning: The objective has been evaluated at this point before.\n",
      "  warnings.warn(\"The objective has been evaluated \"\n",
      "/home/arthur/miniconda3/envs/mlp/lib/python3.6/site-packages/skopt/optimizer/optimizer.py:399: UserWarning: The objective has been evaluated at this point before.\n",
      "  warnings.warn(\"The objective has been evaluated \"\n",
      "/home/arthur/miniconda3/envs/mlp/lib/python3.6/site-packages/skopt/optimizer/optimizer.py:399: UserWarning: The objective has been evaluated at this point before.\n",
      "  warnings.warn(\"The objective has been evaluated \"\n"
     ]
    },
    {
     "name": "stdout",
     "output_type": "stream",
     "text": [
      "Fitting 3 folds for each of 4 candidates, totalling 12 fits\n",
      "[CV] max_depth=6, min_child_weight=4 .................................\n",
      "[CV] max_depth=6, min_child_weight=4 .................................\n",
      "[CV] max_depth=6, min_child_weight=4 .................................\n",
      "[CV] max_depth=6, min_child_weight=4 .................................\n",
      "[CV] .................. max_depth=6, min_child_weight=4, total=   3.3s\n",
      "[CV] max_depth=6, min_child_weight=4 .................................\n",
      "[CV] .................. max_depth=6, min_child_weight=4, total=   3.3s\n",
      "[CV] max_depth=6, min_child_weight=4 .................................\n",
      "[CV] .................. max_depth=6, min_child_weight=4, total=   3.3s\n",
      "[CV] max_depth=6, min_child_weight=4 .................................\n",
      "[CV] .................. max_depth=6, min_child_weight=4, total=   3.4s\n",
      "[CV] max_depth=6, min_child_weight=4 .................................\n",
      "[CV] .................. max_depth=6, min_child_weight=4, total=   3.2s\n",
      "[CV] max_depth=6, min_child_weight=4 .................................\n",
      "[CV] .................. max_depth=6, min_child_weight=4, total=   3.0s\n",
      "[CV] max_depth=6, min_child_weight=4 .................................\n",
      "[CV] .................. max_depth=6, min_child_weight=4, total=   3.1s\n",
      "[CV] max_depth=6, min_child_weight=4 .................................\n",
      "[CV] .................. max_depth=6, min_child_weight=4, total=   3.2s\n",
      "[CV] max_depth=6, min_child_weight=4 .................................\n",
      "[CV] .................. max_depth=6, min_child_weight=4, total=   2.9s\n",
      "[CV] .................. max_depth=6, min_child_weight=4, total=   3.0s\n",
      "[CV] .................. max_depth=6, min_child_weight=4, total=   3.0s\n",
      "[CV] .................. max_depth=6, min_child_weight=4, total=   3.1s\n"
     ]
    },
    {
     "name": "stderr",
     "output_type": "stream",
     "text": [
      "[Parallel(n_jobs=4)]: Done  12 out of  12 | elapsed:    9.7s remaining:    0.0s\n",
      "[Parallel(n_jobs=4)]: Done  12 out of  12 | elapsed:    9.7s finished\n",
      "/home/arthur/miniconda3/envs/mlp/lib/python3.6/site-packages/skopt/optimizer/optimizer.py:399: UserWarning: The objective has been evaluated at this point before.\n",
      "  warnings.warn(\"The objective has been evaluated \"\n",
      "/home/arthur/miniconda3/envs/mlp/lib/python3.6/site-packages/skopt/optimizer/optimizer.py:399: UserWarning: The objective has been evaluated at this point before.\n",
      "  warnings.warn(\"The objective has been evaluated \"\n",
      "/home/arthur/miniconda3/envs/mlp/lib/python3.6/site-packages/skopt/optimizer/optimizer.py:399: UserWarning: The objective has been evaluated at this point before.\n",
      "  warnings.warn(\"The objective has been evaluated \"\n",
      "/home/arthur/miniconda3/envs/mlp/lib/python3.6/site-packages/skopt/optimizer/optimizer.py:399: UserWarning: The objective has been evaluated at this point before.\n",
      "  warnings.warn(\"The objective has been evaluated \"\n"
     ]
    },
    {
     "name": "stdout",
     "output_type": "stream",
     "text": [
      "Fitting 3 folds for each of 4 candidates, totalling 12 fits\n",
      "[CV] max_depth=6, min_child_weight=4 .................................\n",
      "[CV] max_depth=6, min_child_weight=4 .................................\n",
      "[CV] max_depth=6, min_child_weight=4 .................................\n",
      "[CV] max_depth=6, min_child_weight=4 .................................\n",
      "[CV] .................. max_depth=6, min_child_weight=4, total=   3.1s\n",
      "[CV] max_depth=6, min_child_weight=4 .................................\n",
      "[CV] .................. max_depth=6, min_child_weight=4, total=   3.1s\n",
      "[CV] max_depth=6, min_child_weight=4 .................................\n",
      "[CV] .................. max_depth=6, min_child_weight=4, total=   3.1s\n",
      "[CV] max_depth=6, min_child_weight=4 .................................\n",
      "[CV] .................. max_depth=6, min_child_weight=4, total=   3.2s\n",
      "[CV] max_depth=6, min_child_weight=4 .................................\n",
      "[CV] .................. max_depth=6, min_child_weight=4, total=   2.9s\n",
      "[CV] max_depth=6, min_child_weight=4 .................................\n",
      "[CV] .................. max_depth=6, min_child_weight=4, total=   2.9s\n",
      "[CV] max_depth=6, min_child_weight=4 .................................\n",
      "[CV] .................. max_depth=6, min_child_weight=4, total=   3.0s\n",
      "[CV] max_depth=6, min_child_weight=4 .................................\n",
      "[CV] .................. max_depth=6, min_child_weight=4, total=   3.0s\n",
      "[CV] max_depth=6, min_child_weight=4 .................................\n",
      "[CV] .................. max_depth=6, min_child_weight=4, total=   2.9s\n",
      "[CV] .................. max_depth=6, min_child_weight=4, total=   2.9s\n",
      "[CV] .................. max_depth=6, min_child_weight=4, total=   2.9s\n",
      "[CV] .................. max_depth=6, min_child_weight=4, total=   3.0s\n"
     ]
    },
    {
     "name": "stderr",
     "output_type": "stream",
     "text": [
      "[Parallel(n_jobs=4)]: Done  12 out of  12 | elapsed:    9.2s remaining:    0.0s\n",
      "[Parallel(n_jobs=4)]: Done  12 out of  12 | elapsed:    9.2s finished\n",
      "/home/arthur/miniconda3/envs/mlp/lib/python3.6/site-packages/skopt/optimizer/optimizer.py:399: UserWarning: The objective has been evaluated at this point before.\n",
      "  warnings.warn(\"The objective has been evaluated \"\n",
      "/home/arthur/miniconda3/envs/mlp/lib/python3.6/site-packages/skopt/optimizer/optimizer.py:399: UserWarning: The objective has been evaluated at this point before.\n",
      "  warnings.warn(\"The objective has been evaluated \"\n",
      "/home/arthur/miniconda3/envs/mlp/lib/python3.6/site-packages/skopt/optimizer/optimizer.py:399: UserWarning: The objective has been evaluated at this point before.\n",
      "  warnings.warn(\"The objective has been evaluated \"\n",
      "/home/arthur/miniconda3/envs/mlp/lib/python3.6/site-packages/skopt/optimizer/optimizer.py:399: UserWarning: The objective has been evaluated at this point before.\n",
      "  warnings.warn(\"The objective has been evaluated \"\n"
     ]
    },
    {
     "name": "stdout",
     "output_type": "stream",
     "text": [
      "Fitting 3 folds for each of 4 candidates, totalling 12 fits\n",
      "[CV] max_depth=6, min_child_weight=4 .................................\n",
      "[CV] max_depth=6, min_child_weight=4 .................................\n",
      "[CV] max_depth=6, min_child_weight=4 .................................\n",
      "[CV] max_depth=6, min_child_weight=4 .................................\n",
      "[CV] .................. max_depth=6, min_child_weight=4, total=   3.0s\n",
      "[CV] max_depth=6, min_child_weight=4 .................................\n",
      "[CV] .................. max_depth=6, min_child_weight=4, total=   3.0s\n",
      "[CV] max_depth=6, min_child_weight=4 .................................\n",
      "[CV] .................. max_depth=6, min_child_weight=4, total=   3.1s\n",
      "[CV] max_depth=6, min_child_weight=4 .................................\n",
      "[CV] .................. max_depth=6, min_child_weight=4, total=   3.2s\n",
      "[CV] max_depth=6, min_child_weight=4 .................................\n",
      "[CV] .................. max_depth=6, min_child_weight=4, total=   3.0s\n",
      "[CV] max_depth=6, min_child_weight=4 .................................\n",
      "[CV] .................. max_depth=6, min_child_weight=4, total=   2.9s\n",
      "[CV] max_depth=6, min_child_weight=4 .................................\n",
      "[CV] .................. max_depth=6, min_child_weight=4, total=   3.3s\n",
      "[CV] max_depth=6, min_child_weight=4 .................................\n",
      "[CV] .................. max_depth=6, min_child_weight=4, total=   3.4s\n",
      "[CV] max_depth=6, min_child_weight=4 .................................\n",
      "[CV] .................. max_depth=6, min_child_weight=4, total=   2.9s\n",
      "[CV] .................. max_depth=6, min_child_weight=4, total=   3.1s\n",
      "[CV] .................. max_depth=6, min_child_weight=4, total=   3.1s\n",
      "[CV] .................. max_depth=6, min_child_weight=4, total=   2.9s\n"
     ]
    },
    {
     "name": "stderr",
     "output_type": "stream",
     "text": [
      "[Parallel(n_jobs=4)]: Done  12 out of  12 | elapsed:    9.5s remaining:    0.0s\n",
      "[Parallel(n_jobs=4)]: Done  12 out of  12 | elapsed:    9.5s finished\n",
      "/home/arthur/miniconda3/envs/mlp/lib/python3.6/site-packages/skopt/optimizer/optimizer.py:399: UserWarning: The objective has been evaluated at this point before.\n",
      "  warnings.warn(\"The objective has been evaluated \"\n",
      "/home/arthur/miniconda3/envs/mlp/lib/python3.6/site-packages/skopt/optimizer/optimizer.py:399: UserWarning: The objective has been evaluated at this point before.\n",
      "  warnings.warn(\"The objective has been evaluated \"\n"
     ]
    },
    {
     "name": "stdout",
     "output_type": "stream",
     "text": [
      "Fitting 3 folds for each of 2 candidates, totalling 6 fits\n",
      "[CV] max_depth=6, min_child_weight=4 .................................\n",
      "[CV] max_depth=6, min_child_weight=4 .................................\n",
      "[CV] max_depth=6, min_child_weight=4 .................................\n",
      "[CV] max_depth=6, min_child_weight=4 .................................\n",
      "[CV] .................. max_depth=6, min_child_weight=4, total=   3.2s\n",
      "[CV] max_depth=6, min_child_weight=4 .................................\n",
      "[CV] .................. max_depth=6, min_child_weight=4, total=   3.1s\n",
      "[CV] max_depth=6, min_child_weight=4 .................................\n",
      "[CV] .................. max_depth=6, min_child_weight=4, total=   3.2s\n",
      "[CV] .................. max_depth=6, min_child_weight=4, total=   3.3s\n"
     ]
    },
    {
     "name": "stderr",
     "output_type": "stream",
     "text": [
      "[Parallel(n_jobs=4)]: Done   3 out of   6 | elapsed:    3.2s remaining:    3.2s\n"
     ]
    },
    {
     "name": "stdout",
     "output_type": "stream",
     "text": [
      "[CV] .................. max_depth=6, min_child_weight=4, total=   2.8s\n",
      "[CV] .................. max_depth=6, min_child_weight=4, total=   2.9s\n"
     ]
    },
    {
     "name": "stderr",
     "output_type": "stream",
     "text": [
      "[Parallel(n_jobs=4)]: Done   6 out of   6 | elapsed:    6.1s finished\n"
     ]
    },
    {
     "data": {
      "text/plain": [
       "BayesSearchCV(cv=3, error_score='raise',\n",
       "       estimator=XGBRegressor(base_score=0.5, booster='gbtree', colsample_bylevel=1,\n",
       "       colsample_bytree=1, gamma=0, learning_rate=0.1, max_delta_step=0,\n",
       "       max_depth=3, min_child_weight=1, missing=None, n_estimators=100,\n",
       "       n_jobs=1, nthread=None, objective='reg:linear', random_state=0,\n",
       "       reg_alpha=0, reg_lambda=1, scale_pos_weight=1, seed=None,\n",
       "       silent=True, subsample=1),\n",
       "       fit_params=None, iid=True, n_iter=50, n_jobs=4, n_points=4,\n",
       "       optimizer_kwargs=None, pre_dispatch='2*n_jobs', random_state=None,\n",
       "       refit=True, return_train_score=False,\n",
       "       scoring='neg_mean_squared_error',\n",
       "       search_spaces={'min_child_weight': Integer(low=1, high=10), 'max_depth': Integer(low=4, high=8)},\n",
       "       verbose=2)"
      ]
     },
     "execution_count": 5,
     "metadata": {},
     "output_type": "execute_result"
    }
   ],
   "source": [
    "opt = BayesSearchCV(xgb.XGBRegressor(learning_rate=.1), {\n",
    "#     'subsample': Real(.1, 1),\n",
    "#     'colsample_bytree': Real(.1, 1),\n",
    "#     'gamma': Real(0, 1),\n",
    "    'min_child_weight': Integer(1, 10),\n",
    "    'max_depth': Integer(4, 8),\n",
    "    }, verbose=2, cv=3, n_points=4, n_jobs=4, scoring='neg_mean_squared_error')\n",
    "opt.fit(X_tr, y_tr)"
   ]
  },
  {
   "cell_type": "code",
   "execution_count": 13,
   "metadata": {},
   "outputs": [],
   "source": [
    "best_params = opt.best_params_"
   ]
  },
  {
   "cell_type": "code",
   "execution_count": 14,
   "metadata": {},
   "outputs": [
    {
     "data": {
      "text/plain": [
       "-394941560.4841304"
      ]
     },
     "execution_count": 14,
     "metadata": {},
     "output_type": "execute_result"
    }
   ],
   "source": [
    "opt.best_score_"
   ]
  },
  {
   "cell_type": "markdown",
   "metadata": {},
   "source": [
    "# Fit model with best params"
   ]
  },
  {
   "cell_type": "code",
   "execution_count": 15,
   "metadata": {},
   "outputs": [],
   "source": [
    "model = xgb.XGBRegressor(**best_params)"
   ]
  },
  {
   "cell_type": "code",
   "execution_count": 16,
   "metadata": {},
   "outputs": [],
   "source": [
    "# model = xgb.XGBRegressor(max_depth=6, learning_rate=.1)"
   ]
  },
  {
   "cell_type": "code",
   "execution_count": 17,
   "metadata": {},
   "outputs": [
    {
     "data": {
      "text/plain": [
       "XGBRegressor(base_score=0.5, booster='gbtree', colsample_bylevel=1,\n",
       "       colsample_bytree=1, gamma=0, learning_rate=0.1, max_delta_step=0,\n",
       "       max_depth=6, min_child_weight=3, missing=None, n_estimators=100,\n",
       "       n_jobs=1, nthread=None, objective='reg:linear', random_state=0,\n",
       "       reg_alpha=0, reg_lambda=1, scale_pos_weight=1, seed=None,\n",
       "       silent=True, subsample=1)"
      ]
     },
     "execution_count": 17,
     "metadata": {},
     "output_type": "execute_result"
    }
   ],
   "source": [
    "model.fit(X_tr, y_tr)"
   ]
  },
  {
   "cell_type": "code",
   "execution_count": 21,
   "metadata": {},
   "outputs": [
    {
     "name": "stdout",
     "output_type": "stream",
     "text": [
      "Train error: 14372.27\n",
      "Test error: 19030.85\n"
     ]
    }
   ],
   "source": [
    "test_err = mean_squared_error(model.predict(X_test), y_test)**.5\n",
    "train_err = mean_squared_error(model.predict(X_tr), y_tr)**.5\n",
    "print(f'Train error: {train_err:.2f}\\nTest error: {test_err:.2f}')\n",
    "\n",
    "# recreate = model.predict(X_test) * y_tr_og.std() + y_tr_og.mean()\n",
    "# std_err = mean_squared_error(recreate, y_test_og)**.5\n",
    "# print(f'Standard test error: ${std_err:.0f}')"
   ]
  },
  {
   "cell_type": "code",
   "execution_count": 22,
   "metadata": {},
   "outputs": [
    {
     "data": {
      "image/png": "[encoded data removed]",
      "text/plain": [
       "<matplotlib.figure.Figure at 0x7f092755f550>"
      ]
     },
     "metadata": {},
     "output_type": "display_data"
    }
   ],
   "source": [
    "fi = model.feature_importances_\n",
    "order = np.argsort(fi)[::-1]\n",
    "plt.bar(range(len(fi)), fi[order] - fi.mean())\n",
    "plt.xticks(range(len(fi)), list(X.columns[order]), rotation=90)\n",
    "plt.show()"
   ]
  }
 ],
 "metadata": {
  "kernelspec": {
   "display_name": "Python 3",
   "language": "python",
   "name": "python3"
  },
  "language_info": {
   "codemirror_mode": {
    "name": "ipython",
    "version": 3
   },
   "file_extension": ".py",
   "mimetype": "text/x-python",
   "name": "python",
   "nbconvert_exporter": "python",
   "pygments_lexer": "ipython3",
   "version": "3.7.3"
  },
  "toc": {
   "base_numbering": 1,
   "nav_menu": {},
   "number_sections": true,
   "sideBar": true,
   "skip_h1_title": false,
   "title_cell": "Table of Contents",
   "title_sidebar": "Contents",
   "toc_cell": false,
   "toc_position": {},
   "toc_section_display": true,
   "toc_window_display": false
  }
 },
 "nbformat": 4,
 "nbformat_minor": 2
}
